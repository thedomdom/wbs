{
 "cells": [
  {
   "cell_type": "markdown",
   "metadata": {},
   "source": [
    "# Wissensbasierte Systeme \n",
    "## ML-Übung #1 \"Nächste Nachbarn\" und \"Random Forest\"\n",
    "\n",
    "**Dozenten:** Dr. Sina Keller, M.sc. Felix Riese\n",
    "\n",
    "**Datum:** 22.11.2017\n",
    "\n",
    "**Datensatz:** EnMAP-Contest, [Download der Daten](http://www2.ipf.kit.edu/Projekte/code/EnMAP_Contest.zip) mit [Beschreibung](https://www.ipf.kit.edu/downloads/Instructions_EnMAP_Contest.pdf)"
   ]
  },
  {
   "cell_type": "code",
   "execution_count": 1,
   "metadata": {},
   "outputs": [],
   "source": [
    "%matplotlib inline\n",
    "%config InlineBackend.figure_format = 'retina'\n",
    "\n",
    "import numpy as np\n",
    "import h5py\n",
    "import matplotlib.pyplot as plt\n",
    "import pandas as pd"
   ]
  },
  {
   "cell_type": "markdown",
   "metadata": {},
   "source": [
    "### 1. Einlesen des Datensatzes\n",
    "Der Datensatz `EnMAP_Contest_Data.mat` wurde heruntergeladen in das Verzeichnis dieses Notebooks."
   ]
  },
  {
   "cell_type": "code",
   "execution_count": 2,
   "metadata": {},
   "outputs": [
    {
     "name": "stdout",
     "output_type": "stream",
     "text": [
      "dict_keys(['Im', 'cm', 'lx', 'ly', 'xi', 'yi'])\n"
     ]
    }
   ],
   "source": [
    "datadict = {}\n",
    "with h5py.File(\"./EnMAP_Contest_Data.mat\", 'r') as f:\n",
    "    for k, v in f.items():\n",
    "        datadict[k] = np.array(v)\n",
    "\n",
    "print(datadict.keys())"
   ]
  },
  {
   "cell_type": "markdown",
   "metadata": {},
   "source": [
    "### 2. Überblick über den Datensatz erhalten"
   ]
  },
  {
   "cell_type": "markdown",
   "metadata": {},
   "source": [
    "##### Größe des Datensatzes und Anzahl möglicher Klassen herausfinden"
   ]
  },
  {
   "cell_type": "code",
   "execution_count": 3,
   "metadata": {},
   "outputs": [
    {
     "name": "stdout",
     "output_type": "stream",
     "text": [
      "Variable |      Shape     \n",
      "---------------------------\n",
      "Im       | (244, 1000000) \n",
      "cm       | (3, 21)        \n",
      "lx       | (1, 2617)      \n",
      "ly       | (1, 1124)      \n",
      "xi       | (244, 2617)    \n",
      "yi       | (244, 1124)    \n"
     ]
    }
   ],
   "source": [
    "print(\"{var:<8} | {shape:^15}\".format(var=\"Variable\", shape=\"Shape\"))\n",
    "print(\"-\"*27)\n",
    "for key in datadict.keys():\n",
    "    print(\"{var:<8} | {shape:<15}\".format(var=key, shape=str(datadict[key].shape)))"
   ]
  },
  {
   "cell_type": "markdown",
   "metadata": {},
   "source": [
    "`Im`: Image data (244 Schichten, 1000 * 1000 Pixel)\n",
    "\n",
    "`cm`: color map ( R-G-B für 21 Klassen )\n",
    "\n",
    "`lx`: training_labels (2617 Labels für die jeweiligen Trainingsdaten)\n",
    "\n",
    "`ly`: evaluation_labels (1124 Labels für die jeweiligen Evaluationsdaten)\n",
    "\n",
    "`xi`: training_data (2617 Datensätze mit jeweils einem Pixel aus 244 Schichten)\n",
    "\n",
    "`yi`: evaluation_data (1124 Datensätze mit jeweils einem Pixel aus 244 Schichten)\n",
    "\n",
    "`x`: Training, y: Evaluation"
   ]
  },
  {
   "cell_type": "markdown",
   "metadata": {},
   "source": [
    "##### Ein paar Zeilen (= Datenpunkte) anschauen mit `.head(5)` und `.tail(5)`"
   ]
  },
  {
   "cell_type": "markdown",
   "metadata": {},
   "source": [
    "Erste 5 Bild-Zeilen"
   ]
  },
  {
   "cell_type": "code",
   "execution_count": 4,
   "metadata": {},
   "outputs": [
    {
     "data": {
      "text/html": [
       "<div>\n",
       "<style scoped>\n",
       "    .dataframe tbody tr th:only-of-type {\n",
       "        vertical-align: middle;\n",
       "    }\n",
       "\n",
       "    .dataframe tbody tr th {\n",
       "        vertical-align: top;\n",
       "    }\n",
       "\n",
       "    .dataframe thead th {\n",
       "        text-align: right;\n",
       "    }\n",
       "</style>\n",
       "<table border=\"1\" class=\"dataframe\">\n",
       "  <thead>\n",
       "    <tr style=\"text-align: right;\">\n",
       "      <th></th>\n",
       "      <th>0</th>\n",
       "      <th>1</th>\n",
       "      <th>2</th>\n",
       "      <th>3</th>\n",
       "      <th>4</th>\n",
       "      <th>5</th>\n",
       "      <th>6</th>\n",
       "      <th>7</th>\n",
       "      <th>8</th>\n",
       "      <th>9</th>\n",
       "      <th>...</th>\n",
       "      <th>234</th>\n",
       "      <th>235</th>\n",
       "      <th>236</th>\n",
       "      <th>237</th>\n",
       "      <th>238</th>\n",
       "      <th>239</th>\n",
       "      <th>240</th>\n",
       "      <th>241</th>\n",
       "      <th>242</th>\n",
       "      <th>243</th>\n",
       "    </tr>\n",
       "  </thead>\n",
       "  <tbody>\n",
       "    <tr>\n",
       "      <th>0</th>\n",
       "      <td>0.241830</td>\n",
       "      <td>0.265971</td>\n",
       "      <td>0.293590</td>\n",
       "      <td>0.327478</td>\n",
       "      <td>0.336228</td>\n",
       "      <td>0.368227</td>\n",
       "      <td>0.372861</td>\n",
       "      <td>0.388350</td>\n",
       "      <td>0.393245</td>\n",
       "      <td>0.412679</td>\n",
       "      <td>...</td>\n",
       "      <td>0.513941</td>\n",
       "      <td>0.510366</td>\n",
       "      <td>0.520273</td>\n",
       "      <td>0.519186</td>\n",
       "      <td>0.533459</td>\n",
       "      <td>0.523864</td>\n",
       "      <td>0.485793</td>\n",
       "      <td>0.508475</td>\n",
       "      <td>0.522124</td>\n",
       "      <td>0.500204</td>\n",
       "    </tr>\n",
       "    <tr>\n",
       "      <th>1</th>\n",
       "      <td>0.416993</td>\n",
       "      <td>0.448501</td>\n",
       "      <td>0.456410</td>\n",
       "      <td>0.496863</td>\n",
       "      <td>0.497519</td>\n",
       "      <td>0.528325</td>\n",
       "      <td>0.540342</td>\n",
       "      <td>0.549757</td>\n",
       "      <td>0.582630</td>\n",
       "      <td>0.580144</td>\n",
       "      <td>...</td>\n",
       "      <td>0.240769</td>\n",
       "      <td>0.232567</td>\n",
       "      <td>0.254263</td>\n",
       "      <td>0.242134</td>\n",
       "      <td>0.238563</td>\n",
       "      <td>0.233677</td>\n",
       "      <td>0.225335</td>\n",
       "      <td>0.221953</td>\n",
       "      <td>0.230088</td>\n",
       "      <td>0.217232</td>\n",
       "    </tr>\n",
       "    <tr>\n",
       "      <th>2</th>\n",
       "      <td>0.313725</td>\n",
       "      <td>0.303781</td>\n",
       "      <td>0.366667</td>\n",
       "      <td>0.362610</td>\n",
       "      <td>0.385856</td>\n",
       "      <td>0.396552</td>\n",
       "      <td>0.426650</td>\n",
       "      <td>0.436893</td>\n",
       "      <td>0.453559</td>\n",
       "      <td>0.458134</td>\n",
       "      <td>...</td>\n",
       "      <td>0.238885</td>\n",
       "      <td>0.233321</td>\n",
       "      <td>0.214096</td>\n",
       "      <td>0.224482</td>\n",
       "      <td>0.226087</td>\n",
       "      <td>0.213440</td>\n",
       "      <td>0.206393</td>\n",
       "      <td>0.171106</td>\n",
       "      <td>0.200724</td>\n",
       "      <td>0.230706</td>\n",
       "    </tr>\n",
       "    <tr>\n",
       "      <th>3</th>\n",
       "      <td>0.202614</td>\n",
       "      <td>0.237288</td>\n",
       "      <td>0.239744</td>\n",
       "      <td>0.267252</td>\n",
       "      <td>0.258065</td>\n",
       "      <td>0.275862</td>\n",
       "      <td>0.309291</td>\n",
       "      <td>0.316748</td>\n",
       "      <td>0.314837</td>\n",
       "      <td>0.322967</td>\n",
       "      <td>...</td>\n",
       "      <td>0.204974</td>\n",
       "      <td>0.196758</td>\n",
       "      <td>0.197423</td>\n",
       "      <td>0.194935</td>\n",
       "      <td>0.190926</td>\n",
       "      <td>0.174876</td>\n",
       "      <td>0.167324</td>\n",
       "      <td>0.176755</td>\n",
       "      <td>0.173371</td>\n",
       "      <td>0.145774</td>\n",
       "    </tr>\n",
       "    <tr>\n",
       "      <th>4</th>\n",
       "      <td>0.125490</td>\n",
       "      <td>0.178618</td>\n",
       "      <td>0.161538</td>\n",
       "      <td>0.199498</td>\n",
       "      <td>0.214640</td>\n",
       "      <td>0.236453</td>\n",
       "      <td>0.238386</td>\n",
       "      <td>0.254854</td>\n",
       "      <td>0.253317</td>\n",
       "      <td>0.248804</td>\n",
       "      <td>...</td>\n",
       "      <td>0.186888</td>\n",
       "      <td>0.180927</td>\n",
       "      <td>0.192497</td>\n",
       "      <td>0.176899</td>\n",
       "      <td>0.177694</td>\n",
       "      <td>0.180221</td>\n",
       "      <td>0.152328</td>\n",
       "      <td>0.184019</td>\n",
       "      <td>0.168544</td>\n",
       "      <td>0.153532</td>\n",
       "    </tr>\n",
       "  </tbody>\n",
       "</table>\n",
       "<p>5 rows × 244 columns</p>\n",
       "</div>"
      ],
      "text/plain": [
       "        0         1         2         3         4         5         6    \\\n",
       "0  0.241830  0.265971  0.293590  0.327478  0.336228  0.368227  0.372861   \n",
       "1  0.416993  0.448501  0.456410  0.496863  0.497519  0.528325  0.540342   \n",
       "2  0.313725  0.303781  0.366667  0.362610  0.385856  0.396552  0.426650   \n",
       "3  0.202614  0.237288  0.239744  0.267252  0.258065  0.275862  0.309291   \n",
       "4  0.125490  0.178618  0.161538  0.199498  0.214640  0.236453  0.238386   \n",
       "\n",
       "        7         8         9      ...          234       235       236  \\\n",
       "0  0.388350  0.393245  0.412679    ...     0.513941  0.510366  0.520273   \n",
       "1  0.549757  0.582630  0.580144    ...     0.240769  0.232567  0.254263   \n",
       "2  0.436893  0.453559  0.458134    ...     0.238885  0.233321  0.214096   \n",
       "3  0.316748  0.314837  0.322967    ...     0.204974  0.196758  0.197423   \n",
       "4  0.254854  0.253317  0.248804    ...     0.186888  0.180927  0.192497   \n",
       "\n",
       "        237       238       239       240       241       242       243  \n",
       "0  0.519186  0.533459  0.523864  0.485793  0.508475  0.522124  0.500204  \n",
       "1  0.242134  0.238563  0.233677  0.225335  0.221953  0.230088  0.217232  \n",
       "2  0.224482  0.226087  0.213440  0.206393  0.171106  0.200724  0.230706  \n",
       "3  0.194935  0.190926  0.174876  0.167324  0.176755  0.173371  0.145774  \n",
       "4  0.176899  0.177694  0.180221  0.152328  0.184019  0.168544  0.153532  \n",
       "\n",
       "[5 rows x 244 columns]"
      ]
     },
     "execution_count": 4,
     "metadata": {},
     "output_type": "execute_result"
    }
   ],
   "source": [
    "pd.DataFrame(data=datadict[\"Im\"][0:,0:]).T.head(5)"
   ]
  },
  {
   "cell_type": "markdown",
   "metadata": {},
   "source": [
    "RGB-Werte für die Klassen"
   ]
  },
  {
   "cell_type": "code",
   "execution_count": 32,
   "metadata": {},
   "outputs": [
    {
     "data": {
      "text/html": [
       "<div>\n",
       "<style scoped>\n",
       "    .dataframe tbody tr th:only-of-type {\n",
       "        vertical-align: middle;\n",
       "    }\n",
       "\n",
       "    .dataframe tbody tr th {\n",
       "        vertical-align: top;\n",
       "    }\n",
       "\n",
       "    .dataframe thead th {\n",
       "        text-align: right;\n",
       "    }\n",
       "</style>\n",
       "<table border=\"1\" class=\"dataframe\">\n",
       "  <thead>\n",
       "    <tr style=\"text-align: right;\">\n",
       "      <th></th>\n",
       "      <th>R</th>\n",
       "      <th>G</th>\n",
       "      <th>B</th>\n",
       "    </tr>\n",
       "  </thead>\n",
       "  <tbody>\n",
       "    <tr>\n",
       "      <th>0</th>\n",
       "      <td>0.000000</td>\n",
       "      <td>0.000000</td>\n",
       "      <td>0.156863</td>\n",
       "    </tr>\n",
       "    <tr>\n",
       "      <th>1</th>\n",
       "      <td>0.007843</td>\n",
       "      <td>0.000000</td>\n",
       "      <td>0.478431</td>\n",
       "    </tr>\n",
       "    <tr>\n",
       "      <th>2</th>\n",
       "      <td>0.011765</td>\n",
       "      <td>0.000000</td>\n",
       "      <td>0.929412</td>\n",
       "    </tr>\n",
       "    <tr>\n",
       "      <th>3</th>\n",
       "      <td>0.427451</td>\n",
       "      <td>0.411765</td>\n",
       "      <td>1.000000</td>\n",
       "    </tr>\n",
       "    <tr>\n",
       "      <th>4</th>\n",
       "      <td>0.000000</td>\n",
       "      <td>0.258824</td>\n",
       "      <td>0.207843</td>\n",
       "    </tr>\n",
       "    <tr>\n",
       "      <th>5</th>\n",
       "      <td>0.003922</td>\n",
       "      <td>0.278431</td>\n",
       "      <td>0.000000</td>\n",
       "    </tr>\n",
       "    <tr>\n",
       "      <th>6</th>\n",
       "      <td>0.000000</td>\n",
       "      <td>0.725490</td>\n",
       "      <td>0.000000</td>\n",
       "    </tr>\n",
       "    <tr>\n",
       "      <th>7</th>\n",
       "      <td>0.074510</td>\n",
       "      <td>1.000000</td>\n",
       "      <td>0.074510</td>\n",
       "    </tr>\n",
       "    <tr>\n",
       "      <th>8</th>\n",
       "      <td>0.756863</td>\n",
       "      <td>0.039216</td>\n",
       "      <td>0.000000</td>\n",
       "    </tr>\n",
       "    <tr>\n",
       "      <th>9</th>\n",
       "      <td>0.133333</td>\n",
       "      <td>0.215686</td>\n",
       "      <td>0.000000</td>\n",
       "    </tr>\n",
       "    <tr>\n",
       "      <th>10</th>\n",
       "      <td>0.407843</td>\n",
       "      <td>0.490196</td>\n",
       "      <td>0.000000</td>\n",
       "    </tr>\n",
       "    <tr>\n",
       "      <th>11</th>\n",
       "      <td>0.576471</td>\n",
       "      <td>1.000000</td>\n",
       "      <td>0.396078</td>\n",
       "    </tr>\n",
       "    <tr>\n",
       "      <th>12</th>\n",
       "      <td>0.858824</td>\n",
       "      <td>0.000000</td>\n",
       "      <td>0.462745</td>\n",
       "    </tr>\n",
       "    <tr>\n",
       "      <th>13</th>\n",
       "      <td>0.647059</td>\n",
       "      <td>0.647059</td>\n",
       "      <td>0.647059</td>\n",
       "    </tr>\n",
       "    <tr>\n",
       "      <th>14</th>\n",
       "      <td>0.996078</td>\n",
       "      <td>0.996078</td>\n",
       "      <td>0.392157</td>\n",
       "    </tr>\n",
       "    <tr>\n",
       "      <th>15</th>\n",
       "      <td>0.200000</td>\n",
       "      <td>0.039216</td>\n",
       "      <td>0.000000</td>\n",
       "    </tr>\n",
       "    <tr>\n",
       "      <th>16</th>\n",
       "      <td>0.349020</td>\n",
       "      <td>0.129412</td>\n",
       "      <td>0.000000</td>\n",
       "    </tr>\n",
       "    <tr>\n",
       "      <th>17</th>\n",
       "      <td>0.482353</td>\n",
       "      <td>0.262745</td>\n",
       "      <td>0.000000</td>\n",
       "    </tr>\n",
       "    <tr>\n",
       "      <th>18</th>\n",
       "      <td>0.650980</td>\n",
       "      <td>0.482353</td>\n",
       "      <td>0.000000</td>\n",
       "    </tr>\n",
       "    <tr>\n",
       "      <th>19</th>\n",
       "      <td>0.290196</td>\n",
       "      <td>0.247059</td>\n",
       "      <td>0.000000</td>\n",
       "    </tr>\n",
       "    <tr>\n",
       "      <th>20</th>\n",
       "      <td>0.290196</td>\n",
       "      <td>0.247059</td>\n",
       "      <td>0.000000</td>\n",
       "    </tr>\n",
       "  </tbody>\n",
       "</table>\n",
       "</div>"
      ],
      "text/plain": [
       "           R         G         B\n",
       "0   0.000000  0.000000  0.156863\n",
       "1   0.007843  0.000000  0.478431\n",
       "2   0.011765  0.000000  0.929412\n",
       "3   0.427451  0.411765  1.000000\n",
       "4   0.000000  0.258824  0.207843\n",
       "5   0.003922  0.278431  0.000000\n",
       "6   0.000000  0.725490  0.000000\n",
       "7   0.074510  1.000000  0.074510\n",
       "8   0.756863  0.039216  0.000000\n",
       "9   0.133333  0.215686  0.000000\n",
       "10  0.407843  0.490196  0.000000\n",
       "11  0.576471  1.000000  0.396078\n",
       "12  0.858824  0.000000  0.462745\n",
       "13  0.647059  0.647059  0.647059\n",
       "14  0.996078  0.996078  0.392157\n",
       "15  0.200000  0.039216  0.000000\n",
       "16  0.349020  0.129412  0.000000\n",
       "17  0.482353  0.262745  0.000000\n",
       "18  0.650980  0.482353  0.000000\n",
       "19  0.290196  0.247059  0.000000\n",
       "20  0.290196  0.247059  0.000000"
      ]
     },
     "execution_count": 32,
     "metadata": {},
     "output_type": "execute_result"
    }
   ],
   "source": [
    "pd.DataFrame(data=datadict[\"cm\"].T, columns=[\"R\",\"G\",\"B\"]).head(21)"
   ]
  },
  {
   "cell_type": "code",
   "execution_count": 29,
   "metadata": {},
   "outputs": [
    {
     "name": "stdout",
     "output_type": "stream",
     "text": [
      "[ 0.          0.          0.15686275]\n"
     ]
    }
   ],
   "source": [
    "print(datadict[\"cm\"].T[0])"
   ]
  },
  {
   "cell_type": "markdown",
   "metadata": {},
   "source": [
    "Erste 10 Trainingsdatensätze mit zugehörigem Klassen-Label"
   ]
  },
  {
   "cell_type": "code",
   "execution_count": 6,
   "metadata": {},
   "outputs": [
    {
     "data": {
      "text/html": [
       "<div>\n",
       "<style scoped>\n",
       "    .dataframe tbody tr th:only-of-type {\n",
       "        vertical-align: middle;\n",
       "    }\n",
       "\n",
       "    .dataframe tbody tr th {\n",
       "        vertical-align: top;\n",
       "    }\n",
       "\n",
       "    .dataframe thead th {\n",
       "        text-align: right;\n",
       "    }\n",
       "</style>\n",
       "<table border=\"1\" class=\"dataframe\">\n",
       "  <thead>\n",
       "    <tr style=\"text-align: right;\">\n",
       "      <th></th>\n",
       "      <th>0</th>\n",
       "      <th>1</th>\n",
       "      <th>2</th>\n",
       "      <th>3</th>\n",
       "      <th>4</th>\n",
       "      <th>5</th>\n",
       "      <th>6</th>\n",
       "      <th>7</th>\n",
       "      <th>8</th>\n",
       "      <th>9</th>\n",
       "      <th>...</th>\n",
       "      <th>235</th>\n",
       "      <th>236</th>\n",
       "      <th>237</th>\n",
       "      <th>238</th>\n",
       "      <th>239</th>\n",
       "      <th>240</th>\n",
       "      <th>241</th>\n",
       "      <th>242</th>\n",
       "      <th>243</th>\n",
       "      <th>244</th>\n",
       "    </tr>\n",
       "  </thead>\n",
       "  <tbody>\n",
       "    <tr>\n",
       "      <th>0</th>\n",
       "      <td>1.0</td>\n",
       "      <td>0.037908</td>\n",
       "      <td>0.046936</td>\n",
       "      <td>0.044872</td>\n",
       "      <td>0.036386</td>\n",
       "      <td>0.050868</td>\n",
       "      <td>0.046798</td>\n",
       "      <td>0.039120</td>\n",
       "      <td>0.040049</td>\n",
       "      <td>0.042220</td>\n",
       "      <td>...</td>\n",
       "      <td>0.009420</td>\n",
       "      <td>0.006785</td>\n",
       "      <td>0.006063</td>\n",
       "      <td>0.004221</td>\n",
       "      <td>0.016635</td>\n",
       "      <td>0.027873</td>\n",
       "      <td>0.033938</td>\n",
       "      <td>0.002825</td>\n",
       "      <td>0.023733</td>\n",
       "      <td>0.000000</td>\n",
       "    </tr>\n",
       "    <tr>\n",
       "      <th>1</th>\n",
       "      <td>1.0</td>\n",
       "      <td>0.058824</td>\n",
       "      <td>0.029987</td>\n",
       "      <td>0.050000</td>\n",
       "      <td>0.037641</td>\n",
       "      <td>0.034739</td>\n",
       "      <td>0.034483</td>\n",
       "      <td>0.029340</td>\n",
       "      <td>0.046117</td>\n",
       "      <td>0.031363</td>\n",
       "      <td>...</td>\n",
       "      <td>0.003768</td>\n",
       "      <td>0.008669</td>\n",
       "      <td>0.021220</td>\n",
       "      <td>0.004605</td>\n",
       "      <td>0.014745</td>\n",
       "      <td>0.013364</td>\n",
       "      <td>0.000000</td>\n",
       "      <td>0.004036</td>\n",
       "      <td>0.032180</td>\n",
       "      <td>0.034300</td>\n",
       "    </tr>\n",
       "    <tr>\n",
       "      <th>2</th>\n",
       "      <td>1.0</td>\n",
       "      <td>0.052288</td>\n",
       "      <td>0.040417</td>\n",
       "      <td>0.041026</td>\n",
       "      <td>0.040151</td>\n",
       "      <td>0.052109</td>\n",
       "      <td>0.062808</td>\n",
       "      <td>0.053790</td>\n",
       "      <td>0.052184</td>\n",
       "      <td>0.072376</td>\n",
       "      <td>...</td>\n",
       "      <td>0.011304</td>\n",
       "      <td>0.028270</td>\n",
       "      <td>0.012126</td>\n",
       "      <td>0.011128</td>\n",
       "      <td>0.006427</td>\n",
       "      <td>0.012218</td>\n",
       "      <td>0.000000</td>\n",
       "      <td>0.013721</td>\n",
       "      <td>0.003620</td>\n",
       "      <td>0.024500</td>\n",
       "    </tr>\n",
       "    <tr>\n",
       "      <th>3</th>\n",
       "      <td>1.0</td>\n",
       "      <td>0.060131</td>\n",
       "      <td>0.080834</td>\n",
       "      <td>0.064103</td>\n",
       "      <td>0.060226</td>\n",
       "      <td>0.050868</td>\n",
       "      <td>0.060345</td>\n",
       "      <td>0.079462</td>\n",
       "      <td>0.060680</td>\n",
       "      <td>0.060314</td>\n",
       "      <td>...</td>\n",
       "      <td>0.013564</td>\n",
       "      <td>0.000000</td>\n",
       "      <td>0.007579</td>\n",
       "      <td>0.000000</td>\n",
       "      <td>0.000000</td>\n",
       "      <td>0.025582</td>\n",
       "      <td>0.004341</td>\n",
       "      <td>0.000000</td>\n",
       "      <td>0.029767</td>\n",
       "      <td>0.043283</td>\n",
       "    </tr>\n",
       "    <tr>\n",
       "      <th>4</th>\n",
       "      <td>1.0</td>\n",
       "      <td>0.048366</td>\n",
       "      <td>0.061278</td>\n",
       "      <td>0.060256</td>\n",
       "      <td>0.062735</td>\n",
       "      <td>0.043424</td>\n",
       "      <td>0.055419</td>\n",
       "      <td>0.055012</td>\n",
       "      <td>0.044903</td>\n",
       "      <td>0.045838</td>\n",
       "      <td>...</td>\n",
       "      <td>0.000000</td>\n",
       "      <td>0.013570</td>\n",
       "      <td>0.014020</td>\n",
       "      <td>0.024942</td>\n",
       "      <td>0.000378</td>\n",
       "      <td>0.029401</td>\n",
       "      <td>0.016180</td>\n",
       "      <td>0.012107</td>\n",
       "      <td>0.026951</td>\n",
       "      <td>0.024908</td>\n",
       "    </tr>\n",
       "    <tr>\n",
       "      <th>5</th>\n",
       "      <td>1.0</td>\n",
       "      <td>0.077124</td>\n",
       "      <td>0.066493</td>\n",
       "      <td>0.055128</td>\n",
       "      <td>0.031368</td>\n",
       "      <td>0.055831</td>\n",
       "      <td>0.046798</td>\n",
       "      <td>0.056235</td>\n",
       "      <td>0.057039</td>\n",
       "      <td>0.054282</td>\n",
       "      <td>...</td>\n",
       "      <td>0.003391</td>\n",
       "      <td>0.000377</td>\n",
       "      <td>0.000000</td>\n",
       "      <td>0.000000</td>\n",
       "      <td>0.015501</td>\n",
       "      <td>0.002291</td>\n",
       "      <td>0.023678</td>\n",
       "      <td>0.023002</td>\n",
       "      <td>0.004827</td>\n",
       "      <td>0.025725</td>\n",
       "    </tr>\n",
       "    <tr>\n",
       "      <th>6</th>\n",
       "      <td>1.0</td>\n",
       "      <td>0.056209</td>\n",
       "      <td>0.039113</td>\n",
       "      <td>0.055128</td>\n",
       "      <td>0.048934</td>\n",
       "      <td>0.018610</td>\n",
       "      <td>0.036946</td>\n",
       "      <td>0.030562</td>\n",
       "      <td>0.023058</td>\n",
       "      <td>0.030157</td>\n",
       "      <td>...</td>\n",
       "      <td>0.000377</td>\n",
       "      <td>0.000000</td>\n",
       "      <td>0.012884</td>\n",
       "      <td>0.000000</td>\n",
       "      <td>0.010964</td>\n",
       "      <td>0.021764</td>\n",
       "      <td>0.006314</td>\n",
       "      <td>0.014931</td>\n",
       "      <td>0.037812</td>\n",
       "      <td>0.028583</td>\n",
       "    </tr>\n",
       "    <tr>\n",
       "      <th>7</th>\n",
       "      <td>1.0</td>\n",
       "      <td>0.039216</td>\n",
       "      <td>0.079531</td>\n",
       "      <td>0.047436</td>\n",
       "      <td>0.052698</td>\n",
       "      <td>0.057072</td>\n",
       "      <td>0.060345</td>\n",
       "      <td>0.062347</td>\n",
       "      <td>0.042476</td>\n",
       "      <td>0.063932</td>\n",
       "      <td>...</td>\n",
       "      <td>0.006029</td>\n",
       "      <td>0.013570</td>\n",
       "      <td>0.020841</td>\n",
       "      <td>0.001919</td>\n",
       "      <td>0.006049</td>\n",
       "      <td>0.003436</td>\n",
       "      <td>0.003946</td>\n",
       "      <td>0.005246</td>\n",
       "      <td>0.000000</td>\n",
       "      <td>0.002042</td>\n",
       "    </tr>\n",
       "    <tr>\n",
       "      <th>8</th>\n",
       "      <td>1.0</td>\n",
       "      <td>0.056209</td>\n",
       "      <td>0.057366</td>\n",
       "      <td>0.041026</td>\n",
       "      <td>0.052698</td>\n",
       "      <td>0.016129</td>\n",
       "      <td>0.040640</td>\n",
       "      <td>0.046455</td>\n",
       "      <td>0.057039</td>\n",
       "      <td>0.068758</td>\n",
       "      <td>...</td>\n",
       "      <td>0.013941</td>\n",
       "      <td>0.008669</td>\n",
       "      <td>0.011747</td>\n",
       "      <td>0.011896</td>\n",
       "      <td>0.000000</td>\n",
       "      <td>0.030164</td>\n",
       "      <td>0.011050</td>\n",
       "      <td>0.013721</td>\n",
       "      <td>0.006034</td>\n",
       "      <td>0.014292</td>\n",
       "    </tr>\n",
       "    <tr>\n",
       "      <th>9</th>\n",
       "      <td>1.0</td>\n",
       "      <td>0.070588</td>\n",
       "      <td>0.053455</td>\n",
       "      <td>0.047436</td>\n",
       "      <td>0.074028</td>\n",
       "      <td>0.057072</td>\n",
       "      <td>0.055419</td>\n",
       "      <td>0.055012</td>\n",
       "      <td>0.054612</td>\n",
       "      <td>0.057901</td>\n",
       "      <td>...</td>\n",
       "      <td>0.000000</td>\n",
       "      <td>0.024501</td>\n",
       "      <td>0.003410</td>\n",
       "      <td>0.002686</td>\n",
       "      <td>0.003025</td>\n",
       "      <td>0.046583</td>\n",
       "      <td>0.013023</td>\n",
       "      <td>0.000000</td>\n",
       "      <td>0.003620</td>\n",
       "      <td>0.007758</td>\n",
       "    </tr>\n",
       "  </tbody>\n",
       "</table>\n",
       "<p>10 rows × 245 columns</p>\n",
       "</div>"
      ],
      "text/plain": [
       "   0         1         2         3         4         5         6         7    \\\n",
       "0  1.0  0.037908  0.046936  0.044872  0.036386  0.050868  0.046798  0.039120   \n",
       "1  1.0  0.058824  0.029987  0.050000  0.037641  0.034739  0.034483  0.029340   \n",
       "2  1.0  0.052288  0.040417  0.041026  0.040151  0.052109  0.062808  0.053790   \n",
       "3  1.0  0.060131  0.080834  0.064103  0.060226  0.050868  0.060345  0.079462   \n",
       "4  1.0  0.048366  0.061278  0.060256  0.062735  0.043424  0.055419  0.055012   \n",
       "5  1.0  0.077124  0.066493  0.055128  0.031368  0.055831  0.046798  0.056235   \n",
       "6  1.0  0.056209  0.039113  0.055128  0.048934  0.018610  0.036946  0.030562   \n",
       "7  1.0  0.039216  0.079531  0.047436  0.052698  0.057072  0.060345  0.062347   \n",
       "8  1.0  0.056209  0.057366  0.041026  0.052698  0.016129  0.040640  0.046455   \n",
       "9  1.0  0.070588  0.053455  0.047436  0.074028  0.057072  0.055419  0.055012   \n",
       "\n",
       "        8         9      ...          235       236       237       238  \\\n",
       "0  0.040049  0.042220    ...     0.009420  0.006785  0.006063  0.004221   \n",
       "1  0.046117  0.031363    ...     0.003768  0.008669  0.021220  0.004605   \n",
       "2  0.052184  0.072376    ...     0.011304  0.028270  0.012126  0.011128   \n",
       "3  0.060680  0.060314    ...     0.013564  0.000000  0.007579  0.000000   \n",
       "4  0.044903  0.045838    ...     0.000000  0.013570  0.014020  0.024942   \n",
       "5  0.057039  0.054282    ...     0.003391  0.000377  0.000000  0.000000   \n",
       "6  0.023058  0.030157    ...     0.000377  0.000000  0.012884  0.000000   \n",
       "7  0.042476  0.063932    ...     0.006029  0.013570  0.020841  0.001919   \n",
       "8  0.057039  0.068758    ...     0.013941  0.008669  0.011747  0.011896   \n",
       "9  0.054612  0.057901    ...     0.000000  0.024501  0.003410  0.002686   \n",
       "\n",
       "        239       240       241       242       243       244  \n",
       "0  0.016635  0.027873  0.033938  0.002825  0.023733  0.000000  \n",
       "1  0.014745  0.013364  0.000000  0.004036  0.032180  0.034300  \n",
       "2  0.006427  0.012218  0.000000  0.013721  0.003620  0.024500  \n",
       "3  0.000000  0.025582  0.004341  0.000000  0.029767  0.043283  \n",
       "4  0.000378  0.029401  0.016180  0.012107  0.026951  0.024908  \n",
       "5  0.015501  0.002291  0.023678  0.023002  0.004827  0.025725  \n",
       "6  0.010964  0.021764  0.006314  0.014931  0.037812  0.028583  \n",
       "7  0.006049  0.003436  0.003946  0.005246  0.000000  0.002042  \n",
       "8  0.000000  0.030164  0.011050  0.013721  0.006034  0.014292  \n",
       "9  0.003025  0.046583  0.013023  0.000000  0.003620  0.007758  \n",
       "\n",
       "[10 rows x 245 columns]"
      ]
     },
     "execution_count": 6,
     "metadata": {},
     "output_type": "execute_result"
    }
   ],
   "source": [
    "datasets_with_labels = np.vstack([datadict[\"lx\"], datadict[\"xi\"][0:,0:]]).T\n",
    "pd.DataFrame(data=datasets_with_labels).head(10)"
   ]
  },
  {
   "cell_type": "markdown",
   "metadata": {},
   "source": [
    "##### Datensatz geeignet visualisieren in mehreren Plots"
   ]
  },
  {
   "cell_type": "markdown",
   "metadata": {},
   "source": [
    "Ein Trainingsdatensatz in einen Graph geplottet"
   ]
  },
  {
   "cell_type": "code",
   "execution_count": 7,
   "metadata": {},
   "outputs": [
    {
     "name": "stdout",
     "output_type": "stream",
     "text": [
      "Trainingsdatensatz 5:\n"
     ]
    },
    {
     "data": {
      "image/png": "[encoded data removed]",
      "text/plain": [
       "<matplotlib.figure.Figure at 0x214b71dd9b0>"
      ]
     },
     "metadata": {
      "image/png": {
       "height": 263,
       "width": 395
      }
     },
     "output_type": "display_data"
    }
   ],
   "source": [
    "dataset_number = 5\n",
    "plt.plot(datadict[\"xi\"].T[dataset_number])\n",
    "plt.xlabel(\"Spektrum\")\n",
    "plt.ylabel(\"Intensität\")\n",
    "print(\"Trainingsdatensatz %i:\" % dataset_number)"
   ]
  },
  {
   "cell_type": "markdown",
   "metadata": {},
   "source": [
    "Alle Trainingsdatensätze einer Klasse in einen Graph geplottet"
   ]
  },
  {
   "cell_type": "code",
   "execution_count": 20,
   "metadata": {},
   "outputs": [
    {
     "name": "stdout",
     "output_type": "stream",
     "text": [
      "Klasse 21 gehören 0 Trainingsdatensätze an.\n"
     ]
    },
    {
     "data": {
      "image/png": "[encoded data removed]",
      "text/plain": [
       "<matplotlib.figure.Figure at 0x214b9090da0>"
      ]
     },
     "metadata": {
      "image/png": {
       "height": 265,
       "width": 393
      }
     },
     "output_type": "display_data"
    }
   ],
   "source": [
    "class_number = 21\n",
    "class_member_amount = 0\n",
    "for dataset in datasets_with_labels:\n",
    "    if dataset[0] == class_number:\n",
    "        class_member_amount += 1\n",
    "        plt.plot(dataset[1:])\n",
    "plt.xlabel(\"Spektrum\")\n",
    "plt.ylabel(\"Intensität\")\n",
    "print(\"Klasse %i gehören %i Trainingsdatensätze an.\" % (class_number, class_member_amount))"
   ]
  },
  {
   "cell_type": "markdown",
   "metadata": {},
   "source": [
    "##### Karte `Im` geeignet visualisieren mit entsprechender Klasse"
   ]
  },
  {
   "cell_type": "code",
   "execution_count": null,
   "metadata": {},
   "outputs": [],
   "source": []
  },
  {
   "cell_type": "markdown",
   "metadata": {},
   "source": [
    "### 3. Vorprozessierung implementieren"
   ]
  },
  {
   "cell_type": "markdown",
   "metadata": {},
   "source": [
    "##### Reduzierung der Bänder (z.B. Zusammenfassen von Bändern)"
   ]
  },
  {
   "cell_type": "raw",
   "metadata": {},
   "source": [
    "width = 5\n",
    "# datasets_with_labels_reduced = np.array()\n",
    "datasets=datadict[\"xi\"].T\n",
    "# pd.DataFrame(datasets).head(10)"
   ]
  },
  {
   "cell_type": "raw",
   "metadata": {},
   "source": [
    "# Slide the window with width\n",
    "for index_x, dataset in enumerate(datasets[0]):\n",
    "    new_line = np.empty([len(datasets), 1])\n",
    "    if(index_x % width == 0):\n",
    "        # Calculate average for every value in the column\n",
    "        for index_y, value in enumerate(datasets_with_labels[index_x]):\n",
    "            for counter in range(width):\n",
    "                if index_y+counter < len(datasets_with_labels):\n",
    "                    value += datasets_with_labels[index_y+counter][index_x]\n",
    "                    value = value / width\n",
    "                    new_line[0][index_x] = value\n",
    "    print(new_line)\n",
    "#         plt.plot(datasets_with_labels[index][1:])\n",
    "plt.xlabel(\"Spektrum\")\n",
    "plt.ylabel(\"Intensität\")"
   ]
  },
  {
   "cell_type": "markdown",
   "metadata": {},
   "source": [
    "##### Glättung (Filterung) der Spektren"
   ]
  },
  {
   "cell_type": "markdown",
   "metadata": {},
   "source": [
    "##### Möglicherweise schon Dimensionsreduzierung implementieren"
   ]
  },
  {
   "cell_type": "markdown",
   "metadata": {},
   "source": [
    "### 4. Datensatz splitten in Trainings- und Testdatensatz"
   ]
  },
  {
   "cell_type": "markdown",
   "metadata": {},
   "source": [
    "Schon gemacht:\n",
    "- `xi`, `lx` Gelabelte Testdaten\n",
    "- `yi`, `ly` Gelabelte Validierungsdaten"
   ]
  },
  {
   "cell_type": "markdown",
   "metadata": {},
   "source": [
    "### 5. Klassifikatoren implementieren und testen"
   ]
  },
  {
   "cell_type": "code",
   "execution_count": 11,
   "metadata": {},
   "outputs": [],
   "source": [
    "import sklearn.ensemble\n",
    "import sklearn.neighbors\n",
    "import sklearn.neural_network"
   ]
  },
  {
   "cell_type": "markdown",
   "metadata": {},
   "source": [
    "#### Random Forest (ada-boost)"
   ]
  },
  {
   "cell_type": "code",
   "execution_count": 12,
   "metadata": {},
   "outputs": [
    {
     "name": "stdout",
     "output_type": "stream",
     "text": [
      "(2617, 244)\n",
      "(2617,)\n"
     ]
    },
    {
     "data": {
      "text/plain": [
       "0.8291814946619217"
      ]
     },
     "execution_count": 12,
     "metadata": {},
     "output_type": "execute_result"
    }
   ],
   "source": [
    "forest = sklearn.ensemble.RandomForestClassifier(random_state=1)\n",
    "# http://scikit-learn.org/stable/modules/generated/sklearn.ensemble.RandomForestClassifier.html\n",
    "print(datadict[\"xi\"].T.shape)\n",
    "print(datadict[\"lx\"].T.ravel().shape)\n",
    "forest.fit(datadict[\"xi\"].T, datadict[\"lx\"].T.ravel())\n",
    "forest.score(datadict[\"yi\"].T, datadict[\"ly\"].T.ravel())"
   ]
  },
  {
   "cell_type": "markdown",
   "metadata": {},
   "source": [
    "#### Nächster Nachbar / k nearest neighbors (KNN)"
   ]
  },
  {
   "cell_type": "code",
   "execution_count": 13,
   "metadata": {},
   "outputs": [
    {
     "name": "stdout",
     "output_type": "stream",
     "text": [
      "(2617, 244)\n",
      "(2617,)\n"
     ]
    },
    {
     "data": {
      "text/plain": [
       "0.8220640569395018"
      ]
     },
     "execution_count": 13,
     "metadata": {},
     "output_type": "execute_result"
    }
   ],
   "source": [
    "knn = sklearn.neighbors.KNeighborsClassifier()\n",
    "# http://scikit-learn.org/stable/modules/generated/sklearn.neighbors.KNeighborsClassifier.html\n",
    "print(datadict[\"xi\"].T.shape)\n",
    "print(datadict[\"lx\"].T.ravel().shape)\n",
    "knn.fit(datadict[\"xi\"].T, datadict[\"lx\"].T.ravel())\n",
    "knn.score(datadict[\"yi\"].T, datadict[\"ly\"].T.ravel())"
   ]
  },
  {
   "cell_type": "markdown",
   "metadata": {},
   "source": [
    "#### Multi Layer Perceptrons (MLP)"
   ]
  },
  {
   "cell_type": "code",
   "execution_count": 14,
   "metadata": {},
   "outputs": [
    {
     "name": "stdout",
     "output_type": "stream",
     "text": [
      "(2617, 244)\n",
      "(2617,)\n"
     ]
    },
    {
     "data": {
      "text/plain": [
       "0.75889679715302494"
      ]
     },
     "execution_count": 14,
     "metadata": {},
     "output_type": "execute_result"
    }
   ],
   "source": [
    "mlp = sklearn.neural_network.MLPClassifier()\n",
    "# http://scikit-learn.org/stable/modules/generated/sklearn.neural_network.MLPClassifier.html\n",
    "print(datadict[\"xi\"].T.shape)\n",
    "print(datadict[\"lx\"].T.ravel().shape)\n",
    "mlp.fit(datadict[\"xi\"].T, datadict[\"lx\"].T.ravel())\n",
    "mlp.score(datadict[\"yi\"].T, datadict[\"ly\"].T.ravel())"
   ]
  },
  {
   "cell_type": "markdown",
   "metadata": {},
   "source": [
    "#### Voting Classifier"
   ]
  },
  {
   "cell_type": "code",
   "execution_count": 18,
   "metadata": {},
   "outputs": [
    {
     "name": "stdout",
     "output_type": "stream",
     "text": [
      "(2617, 244)\n",
      "(2617,)\n"
     ]
    },
    {
     "data": {
      "text/plain": [
       "0.83274021352313166"
      ]
     },
     "execution_count": 18,
     "metadata": {},
     "output_type": "execute_result"
    }
   ],
   "source": [
    "forest = sklearn.ensemble.RandomForestClassifier(random_state=1)\n",
    "knn = sklearn.neighbors.KNeighborsClassifier()\n",
    "mlp = sklearn.neural_network.MLPClassifier(random_state=1)\n",
    "\n",
    "mlp = sklearn.ensemble.VotingClassifier(estimators=[('forest', forest), ('knn', knn), ('mlp', mlp)], voting='soft')\n",
    "\n",
    "# http://scikit-learn.org/stable/modules/generated/sklearn.ensemble.VotingClassifier.html\n",
    "print(datadict[\"xi\"].T.shape)\n",
    "print(datadict[\"lx\"].T.ravel().shape)\n",
    "mlp.fit(datadict[\"xi\"].T, datadict[\"lx\"].T.ravel())\n",
    "mlp.score(datadict[\"yi\"].T, datadict[\"ly\"].T.ravel())"
   ]
  }
 ],
 "metadata": {
  "kernelspec": {
   "display_name": "Python 3",
   "language": "python",
   "name": "python3"
  },
  "language_info": {
   "codemirror_mode": {
    "name": "ipython",
    "version": 3
   },
   "file_extension": ".py",
   "mimetype": "text/x-python",
   "name": "python",
   "nbconvert_exporter": "python",
   "pygments_lexer": "ipython3",
   "version": "3.6.3"
  }
 },
 "nbformat": 4,
 "nbformat_minor": 2
}
